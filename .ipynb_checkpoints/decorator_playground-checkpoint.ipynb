{
 "cells": [
  {
   "cell_type": "code",
   "execution_count": 1,
   "id": "96e02285",
   "metadata": {},
   "outputs": [],
   "source": [
    "class BaseClass:\n",
    "    \n",
    "    def __init__(self):\n",
    "        \n",
    "        self._variable1: int\n",
    "        self._variable2: float\n",
    "    \n",
    "    def _private_method(self, a, b):\n",
    "        self._variable_in_method = a + b\n",
    "        print(f\"{self._private_method._name__}\")"
   ]
  },
  {
   "cell_type": "code",
   "execution_count": 2,
   "id": "6d547bb1",
   "metadata": {},
   "outputs": [],
   "source": [
    "base = BaseClass()"
   ]
  },
  {
   "cell_type": "code",
   "execution_count": 3,
   "id": "c62b3ab3",
   "metadata": {},
   "outputs": [
    {
     "data": {
      "text/plain": [
       "['__class__',\n",
       " '__delattr__',\n",
       " '__dict__',\n",
       " '__dir__',\n",
       " '__doc__',\n",
       " '__eq__',\n",
       " '__format__',\n",
       " '__ge__',\n",
       " '__getattribute__',\n",
       " '__gt__',\n",
       " '__hash__',\n",
       " '__init__',\n",
       " '__init_subclass__',\n",
       " '__le__',\n",
       " '__lt__',\n",
       " '__module__',\n",
       " '__ne__',\n",
       " '__new__',\n",
       " '__reduce__',\n",
       " '__reduce_ex__',\n",
       " '__repr__',\n",
       " '__setattr__',\n",
       " '__sizeof__',\n",
       " '__str__',\n",
       " '__subclasshook__',\n",
       " '__weakref__',\n",
       " '_private_method']"
      ]
     },
     "execution_count": 3,
     "metadata": {},
     "output_type": "execute_result"
    }
   ],
   "source": [
    "dir(base)"
   ]
  },
  {
   "cell_type": "code",
   "execution_count": 20,
   "id": "17235ed4",
   "metadata": {},
   "outputs": [
    {
     "data": {
      "text/plain": [
       "('self', 'a', 'b', '_variable_in_method')"
      ]
     },
     "execution_count": 20,
     "metadata": {},
     "output_type": "execute_result"
    }
   ],
   "source": [
    "base._private_method.__code__.co_varnames"
   ]
  },
  {
   "cell_type": "code",
   "execution_count": 19,
   "id": "1c900985",
   "metadata": {},
   "outputs": [
    {
     "data": {
      "text/plain": [
       "('a', 'b')"
      ]
     },
     "execution_count": 19,
     "metadata": {},
     "output_type": "execute_result"
    }
   ],
   "source": [
    "def outer(fn):\n",
    "    import re\n",
    "    pattern = r'_.*$'\n",
    "    private_variables = {}\n",
    "    def inner(*args, **kwargs):\n",
    "        \n",
    "        for _variable in fn.__code__.co_varnames:\n",
    "        private_variables = re.match(pattern, fn.__code__.co_varnames)\n",
    "        if not private_variable:\n",
    "            continue\n",
    "        else:\n",
    "            private_variables[private_variable.group()] = None\n",
    "        result = fn(*args, **kwargs)\n",
    "    return inner"
   ]
  },
  {
   "cell_type": "code",
   "execution_count": null,
   "id": "5bbe6c19",
   "metadata": {},
   "outputs": [],
   "source": []
  }
 ],
 "metadata": {
  "kernelspec": {
   "display_name": "Python 3 (ipykernel)",
   "language": "python",
   "name": "python3"
  },
  "language_info": {
   "codemirror_mode": {
    "name": "ipython",
    "version": 3
   },
   "file_extension": ".py",
   "mimetype": "text/x-python",
   "name": "python",
   "nbconvert_exporter": "python",
   "pygments_lexer": "ipython3",
   "version": "3.9.12"
  }
 },
 "nbformat": 4,
 "nbformat_minor": 5
}
