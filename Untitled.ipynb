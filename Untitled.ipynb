{
 "cells": [
  {
   "cell_type": "code",
   "execution_count": 15,
   "id": "2de4d160",
   "metadata": {},
   "outputs": [],
   "source": [
    "from deeplearning import *\n",
    "import numpy as np"
   ]
  },
  {
   "cell_type": "code",
   "execution_count": 30,
   "id": "f21b0d70",
   "metadata": {},
   "outputs": [
    {
     "data": {
      "text/plain": [
       "['_NeuralNetwork__biases',\n",
       " '_NeuralNetwork__initialize__weights_and__biases',\n",
       " '_NeuralNetwork__layer_node_values',\n",
       " '_NeuralNetwork__network_layout',\n",
       " '_NeuralNetwork__number_of_layers',\n",
       " '_NeuralNetwork__weighted_inputs',\n",
       " '_NeuralNetwork__weights',\n",
       " '__class__',\n",
       " '__delattr__',\n",
       " '__dict__',\n",
       " '__dir__',\n",
       " '__doc__',\n",
       " '__eq__',\n",
       " '__format__',\n",
       " '__ge__',\n",
       " '__getattribute__',\n",
       " '__gt__',\n",
       " '__hash__',\n",
       " '__init__',\n",
       " '__init_subclass__',\n",
       " '__le__',\n",
       " '__lt__',\n",
       " '__module__',\n",
       " '__ne__',\n",
       " '__new__',\n",
       " '__reduce__',\n",
       " '__reduce_ex__',\n",
       " '__repr__',\n",
       " '__setattr__',\n",
       " '__sizeof__',\n",
       " '__str__',\n",
       " '__subclasshook__',\n",
       " '__weakref__',\n",
       " 'add_layer',\n",
       " 'back_propagation',\n",
       " 'feed_forward',\n",
       " 'neurons_in_input_layer',\n",
       " 'print_layout',\n",
       " 'weight_initialization']"
      ]
     },
     "execution_count": 30,
     "metadata": {},
     "output_type": "execute_result"
    }
   ],
   "source": [
    "test_network = NeuralNetwork(2)\n",
    "dir(test_network)"
   ]
  },
  {
   "cell_type": "code",
   "execution_count": 28,
   "id": "baa3ffa8",
   "metadata": {},
   "outputs": [],
   "source": [
    "prefix = f\"__{NeuralNetwork.__name__}\"\n",
    "def mock_initialize_weight_and_biases(rows, columns):\n",
    "    mock_weights = np.ones(shape=(rows, columns))\n",
    "    mock_biases = np.ones(shape=(rows, 1))\n",
    "    return mock_weights, mock_biases\n",
    "test_network._NeuralNetwork__initialize__weights_and__biases = mock_initialize_weight_and_biases"
   ]
  },
  {
   "cell_type": "code",
   "execution_count": 29,
   "id": "dcf09b64",
   "metadata": {},
   "outputs": [],
   "source": [
    "test_network.add_layer(3, \"ReLU\")"
   ]
  },
  {
   "cell_type": "code",
   "execution_count": 33,
   "id": "f3161540",
   "metadata": {},
   "outputs": [],
   "source": [
    "def mock_initialize_weight_and_biases(rows, columns):\n",
    "    mock_weights = np.ones(shape=(rows, columns))\n",
    "    mock_biases = np.ones(shape=(rows, 1))\n",
    "    return mock_weights, mock_biases\n",
    "\n",
    "test_network = NeuralNetwork(2)\n",
    "test_network._NeuralNetwork__initialize__weights_and__biases = mock_initialize_weight_and_biases\n",
    "test_network.add_layer(5, \"ReLU\")\n",
    "test_network.add_layer(4, \"ReLU\")\n",
    "test_network.add_layer(3, \"ReLU\")\n",
    "test_network.add_layer(2, \"ReLU\")\n",
    "\n",
    "output = test_network.feed_forward(np.array([[0, 0]]).T)\n"
   ]
  },
  {
   "cell_type": "code",
   "execution_count": 34,
   "id": "8fb3dd73",
   "metadata": {},
   "outputs": [
    {
     "data": {
      "text/plain": [
       "array([[76.],\n",
       "       [76.]])"
      ]
     },
     "execution_count": 34,
     "metadata": {},
     "output_type": "execute_result"
    }
   ],
   "source": [
    "output"
   ]
  },
  {
   "cell_type": "code",
   "execution_count": null,
   "id": "f23a53e8",
   "metadata": {},
   "outputs": [],
   "source": []
  }
 ],
 "metadata": {
  "kernelspec": {
   "display_name": "Python 3 (ipykernel)",
   "language": "python",
   "name": "python3"
  },
  "language_info": {
   "codemirror_mode": {
    "name": "ipython",
    "version": 3
   },
   "file_extension": ".py",
   "mimetype": "text/x-python",
   "name": "python",
   "nbconvert_exporter": "python",
   "pygments_lexer": "ipython3",
   "version": "3.9.12"
  }
 },
 "nbformat": 4,
 "nbformat_minor": 5
}
