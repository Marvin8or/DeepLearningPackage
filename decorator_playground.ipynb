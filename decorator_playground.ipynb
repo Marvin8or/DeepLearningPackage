{
 "cells": [
  {
   "cell_type": "code",
   "execution_count": 2,
   "id": "6a55d249",
   "metadata": {},
   "outputs": [],
   "source": [
    "class BaseClass:\n",
    "    \n",
    "    def __init__(self):\n",
    "        \n",
    "        self._variable1: int\n",
    "        self._variable2: float\n",
    "    \n",
    "    def _private_method(self, a, b):\n",
    "        self._variable_in_method = a + b\n",
    "        print(f\"{self._private_method._name__}\")"
   ]
  },
  {
   "cell_type": "code",
   "execution_count": 3,
   "id": "6c24a8fe",
   "metadata": {},
   "outputs": [],
   "source": [
    "base = BaseClass()"
   ]
  },
  {
   "cell_type": "code",
   "execution_count": 4,
   "id": "e4522101",
   "metadata": {},
   "outputs": [
    {
     "data": {
      "text/plain": [
       "['__class__',\n",
       " '__delattr__',\n",
       " '__dict__',\n",
       " '__dir__',\n",
       " '__doc__',\n",
       " '__eq__',\n",
       " '__format__',\n",
       " '__ge__',\n",
       " '__getattribute__',\n",
       " '__gt__',\n",
       " '__hash__',\n",
       " '__init__',\n",
       " '__init_subclass__',\n",
       " '__le__',\n",
       " '__lt__',\n",
       " '__module__',\n",
       " '__ne__',\n",
       " '__new__',\n",
       " '__reduce__',\n",
       " '__reduce_ex__',\n",
       " '__repr__',\n",
       " '__setattr__',\n",
       " '__sizeof__',\n",
       " '__str__',\n",
       " '__subclasshook__',\n",
       " '__weakref__',\n",
       " '_private_method']"
      ]
     },
     "execution_count": 4,
     "metadata": {},
     "output_type": "execute_result"
    }
   ],
   "source": [
    "dir(base)"
   ]
  },
  {
   "cell_type": "code",
   "execution_count": 6,
   "id": "1b27a3fd",
   "metadata": {},
   "outputs": [
    {
     "ename": "AttributeError",
     "evalue": "'function' object has no attribute 'a'",
     "output_type": "error",
     "traceback": [
      "\u001b[1;31m---------------------------------------------------------------------------\u001b[0m",
      "\u001b[1;31mAttributeError\u001b[0m                            Traceback (most recent call last)",
      "Input \u001b[1;32mIn [6]\u001b[0m, in \u001b[0;36m<cell line: 1>\u001b[1;34m()\u001b[0m\n\u001b[1;32m----> 1\u001b[0m \u001b[43mbase\u001b[49m\u001b[38;5;241;43m.\u001b[39;49m\u001b[43m_private_method\u001b[49m\u001b[38;5;241;43m.\u001b[39;49m\u001b[43ma\u001b[49m\n",
      "\u001b[1;31mAttributeError\u001b[0m: 'function' object has no attribute 'a'"
     ]
    }
   ],
   "source": [
    "base._private_method.a\n"
   ]
  },
  {
   "cell_type": "code",
   "execution_count": 23,
   "id": "f2543060",
   "metadata": {},
   "outputs": [],
   "source": [
    "def outer(fn):\n",
    "    import re\n",
    "    pattern = r'_.*$'\n",
    "    private_variables = {}\n",
    "    def inner(*args, **kwargs):\n",
    "        \n",
    "        for _variable in fn.__code__.co_varnames:\n",
    "            private_variable = re.match(pattern, _variable)\n",
    "            if not private_variable:\n",
    "                continue\n",
    "            else:\n",
    "                private_variables[private_variable.group()] = None\n",
    "        result = fn(*args, **kwargs)\n",
    "        \n",
    "    return inner"
   ]
  },
  {
   "cell_type": "code",
   "execution_count": 7,
   "id": "ad5a7113",
   "metadata": {},
   "outputs": [],
   "source": [
    "def function1(a, b):\n",
    "    print(\"a, b\")\n",
    "        \n",
    "def function2(z, c):\n",
    "    print(\"z, c\")"
   ]
  },
  {
   "cell_type": "code",
   "execution_count": 8,
   "id": "92ce8942",
   "metadata": {},
   "outputs": [],
   "source": [
    "function1 = function2"
   ]
  },
  {
   "cell_type": "code",
   "execution_count": 9,
   "id": "b4fba597",
   "metadata": {},
   "outputs": [
    {
     "name": "stdout",
     "output_type": "stream",
     "text": [
      "z, c\n"
     ]
    }
   ],
   "source": [
    "function1(1, 2)"
   ]
  },
  {
   "cell_type": "code",
   "execution_count": null,
   "id": "d63453ae",
   "metadata": {},
   "outputs": [],
   "source": []
  }
 ],
 "metadata": {
  "kernelspec": {
   "display_name": "Python 3 (ipykernel)",
   "language": "python",
   "name": "python3"
  },
  "language_info": {
   "codemirror_mode": {
    "name": "ipython",
    "version": 3
   },
   "file_extension": ".py",
   "mimetype": "text/x-python",
   "name": "python",
   "nbconvert_exporter": "python",
   "pygments_lexer": "ipython3",
   "version": "3.9.12"
  }
 },
 "nbformat": 4,
 "nbformat_minor": 5
}
